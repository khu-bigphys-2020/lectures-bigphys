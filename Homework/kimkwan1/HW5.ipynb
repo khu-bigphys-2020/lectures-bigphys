{
  "nbformat": 4,
  "nbformat_minor": 0,
  "metadata": {
    "colab": {
      "name": "HW5.ipynb",
      "provenance": []
    },
    "kernelspec": {
      "name": "python3",
      "display_name": "Python 3"
    }
  },
  "cells": [
    {
      "cell_type": "code",
      "metadata": {
        "id": "DF5RERVkCwps"
      },
      "source": [
        "## H1 f(x) = A*sin(kx) + Gauss 데이터 생성 fitting - parameter A, k 찾기\n",
        "## H2 A,k찾기 X^2 값의 histogram 그리기"
      ],
      "execution_count": 1,
      "outputs": []
    },
    {
      "cell_type": "code",
      "metadata": {
        "id": "S0bXEtKND2Q6"
      },
      "source": [
        "import math\n",
        "import matplotlib.pyplot as plt\n",
        "import random"
      ],
      "execution_count": 2,
      "outputs": []
    },
    {
      "cell_type": "code",
      "metadata": {
        "id": "hIjWnGWoEBY0"
      },
      "source": [
        "def f(x,A,k):\n",
        "  return A*math.sin(k*x)"
      ],
      "execution_count": 3,
      "outputs": []
    },
    {
      "cell_type": "code",
      "metadata": {
        "id": "0GPvpO8VDmPM"
      },
      "source": [
        "real_A=2\n",
        "real_k=3\n",
        "data_number=100\n",
        "x = sorted([random.uniform(-1,1) for i in range(data_number)])\n",
        "y = [real_A*math.sin(real_k*i)+random.gauss(0,0.5) for i in x]\n",
        "\n",
        "A,k=0.1,0.1\n",
        "trials=2000\n",
        "w=0.001\n",
        "for i in range(trials):\n",
        "  MSE=0\n",
        "  A_error,k_error=0,0\n",
        "  for j in range(data_number):\n",
        "    MSE+=(y[j] - f(x[j],A,k))**2\n",
        "    A_error+=-2*(y[j]-f(x[j],A,k))*math.sin(k*x[j])\n",
        "    k_error+=-2*(y[j]-f(x[j],A,k))*A*x[j]*math.cos(k*x[j])\n",
        "  A-=w*A_error\n",
        "  k-=w*k_error"
      ],
      "execution_count": 16,
      "outputs": []
    },
    {
      "cell_type": "code",
      "metadata": {
        "id": "SwPBNtIXEA7P",
        "colab": {
          "base_uri": "https://localhost:8080/",
          "height": 283
        },
        "outputId": "500ec7e6-78c6-43cd-c46c-da9fb460859d"
      },
      "source": [
        "plt.plot(x,y,'ro')\n",
        "MSE,A,k"
      ],
      "execution_count": 26,
      "outputs": [
        {
          "output_type": "execute_result",
          "data": {
            "text/plain": [
              "(25.183078386580156, 1.9323068815998168, 3.0439571673576724)"
            ]
          },
          "metadata": {
            "tags": []
          },
          "execution_count": 26
        },
        {
          "output_type": "display_data",
          "data": {
            "image/png": "[encoded data removed]",
            "text/plain": [
              "<Figure size 432x288 with 1 Axes>"
            ]
          },
          "metadata": {
            "tags": [],
            "needs_background": "light"
          }
        }
      ]
    },
    {
      "cell_type": "code",
      "metadata": {
        "colab": {
          "base_uri": "https://localhost:8080/",
          "height": 283
        },
        "id": "eOZgPz8UhpKz",
        "outputId": "8632415d-9260-4ecd-f155-4dc416994f07"
      },
      "source": [
        "y1=[f(x[i],A,k) for i in range(data_number)]\n",
        "plt.plot(x,y,'ro')\n",
        "plt.plot(x,y1)"
      ],
      "execution_count": 27,
      "outputs": [
        {
          "output_type": "execute_result",
          "data": {
            "text/plain": [
              "[<matplotlib.lines.Line2D at 0x7f07a56b3a58>]"
            ]
          },
          "metadata": {
            "tags": []
          },
          "execution_count": 27
        },
        {
          "output_type": "display_data",
          "data": {
            "image/png": "[encoded data removed]",
            "text/plain": [
              "<Figure size 432x288 with 1 Axes>"
            ]
          },
          "metadata": {
            "tags": [],
            "needs_background": "light"
          }
        }
      ]
    },
    {
      "cell_type": "code",
      "metadata": {
        "colab": {
          "base_uri": "https://localhost:8080/"
        },
        "id": "TxBjpeGLnbfA",
        "outputId": "03392f80-35a5-4da4-8e8b-d9bcd1a01bec"
      },
      "source": [
        "kai=0\n",
        "for i in range(data_number):\n",
        "  kai+=(y[i]-f(x[i],A,k))**2/0.5**2\n",
        "kai/data_number"
      ],
      "execution_count": 19,
      "outputs": [
        {
          "output_type": "execute_result",
          "data": {
            "text/plain": [
              "1.1737636517518002"
            ]
          },
          "metadata": {
            "tags": []
          },
          "execution_count": 19
        }
      ]
    },
    {
      "cell_type": "code",
      "metadata": {
        "id": "fTbvbI2iioZ6"
      },
      "source": [
        "# Homework 2\n",
        "N=100\n",
        "Histogram=[]\n",
        "\n",
        "for k in range(N):\n",
        "  A,k=0.1,0.1\n",
        "  x = sorted([random.uniform(-1,1) for i in range(data_number)])\n",
        "  y = [real_A*math.sin(real_k*i)+random.gauss(0,0.5) for i in x]\n",
        "\n",
        "  for i in range(trials):\n",
        "    MSE=0\n",
        "    A_error,k_error=0,0\n",
        "    \n",
        "    for j in range(data_number):\n",
        "      MSE+=(y[j] - f(x[j],A,k))**2\n",
        "      A_error+=-2*(y[j]-f(x[j],A,k))*math.sin(k*x[j])\n",
        "      k_error+=-2*(y[j]-f(x[j],A,k))*A*x[j]*math.cos(k*x[j])\n",
        "    A-=w*A_error\n",
        "    k-=w*k_error\n",
        "\n",
        "  kai=0\n",
        "  for i in range(data_number):\n",
        "    kai+=((y[i]-f(x[i],A,k))**2/0.5)**2\n",
        "  Histogram.append(kai/data_number)"
      ],
      "execution_count": 24,
      "outputs": []
    },
    {
      "cell_type": "code",
      "metadata": {
        "colab": {
          "base_uri": "https://localhost:8080/",
          "height": 355
        },
        "id": "DAs8Qat5DEzH",
        "outputId": "4261c137-8240-468e-d7b0-35a0a1bf7f67"
      },
      "source": [
        "plt.hist(Histogram)"
      ],
      "execution_count": 25,
      "outputs": [
        {
          "output_type": "execute_result",
          "data": {
            "text/plain": [
              "(array([ 6., 19., 21., 18., 14.,  6.,  6.,  6.,  2.,  2.]),\n",
              " array([0.35053251, 0.4625317 , 0.57453089, 0.68653007, 0.79852926,\n",
              "        0.91052845, 1.02252764, 1.13452682, 1.24652601, 1.3585252 ,\n",
              "        1.47052439]),\n",
              " <a list of 10 Patch objects>)"
            ]
          },
          "metadata": {
            "tags": []
          },
          "execution_count": 25
        },
        {
          "output_type": "display_data",
          "data": {
            "image/png": "[encoded data removed]",
            "text/plain": [
              "<Figure size 432x288 with 1 Axes>"
            ]
          },
          "metadata": {
            "tags": [],
            "needs_background": "light"
          }
        }
      ]
    },
    {
      "cell_type": "code",
      "metadata": {
        "id": "DXQ8jRbCDP85"
      },
      "source": [
        ""
      ],
      "execution_count": null,
      "outputs": []
    }
  ]
}