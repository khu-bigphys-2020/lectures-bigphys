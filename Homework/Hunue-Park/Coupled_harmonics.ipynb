{
  "nbformat": 4,
  "nbformat_minor": 0,
  "metadata": {
    "colab": {
      "name": "Coupled_harmonics.ipynb",
      "provenance": [],
      "collapsed_sections": [],
      "authorship_tag": "ABX9TyNuw2Ia60EJbG4QJH/1d1Ir",
      "include_colab_link": true
    },
    "kernelspec": {
      "name": "python3",
      "display_name": "Python 3"
    }
  },
  "cells": [
    {
      "cell_type": "markdown",
      "metadata": {
        "id": "view-in-github",
        "colab_type": "text"
      },
      "source": [
        "<a href=\"https://colab.research.google.com/github/Hunue-Park/lectures-bigphys/blob/master/Coupled_harmonics.ipynb\" target=\"_parent\"><img src=\"https://colab.research.google.com/assets/colab-badge.svg\" alt=\"Open In Colab\"/></a>"
      ]
    },
    {
      "cell_type": "code",
      "metadata": {
        "id": "Y_t3aE5ZDY2t",
        "colab_type": "code",
        "colab": {}
      },
      "source": [
        "m = 1 # this is mass of particle\n",
        "t = 0.0 # time\n",
        "x1 = 1.0 # x1 position\n",
        "x2 = 2.0 # x2 position\n",
        "\n",
        "x0 = 1.0 # default length of the spring\n",
        "x1 = x0 + 0.1\n",
        "x2 = 2*x0 + 0.1\n",
        "v1 = 0.0 # velocity\n",
        "v2 = 0.0\n",
        "a1 = 0.0\n",
        "a2 = 0.0\n",
        "k = 0.1 # spring constant\n",
        "# a = -9.8 # accel\n"
      ],
      "execution_count": 38,
      "outputs": []
    },
    {
      "cell_type": "code",
      "metadata": {
        "id": "5vShSD4DDoGu",
        "colab_type": "code",
        "colab": {}
      },
      "source": [
        "dt = 0.1\n",
        "tlist = [t,]\n",
        "x1list = [x1,]\n",
        "x2list = [x2,]\n",
        "v1list = [v1,]\n",
        "v2list = [v2,]\n",
        "\n",
        "for i in range(3000):\n",
        "      \n",
        "  t = t + dt\n",
        "  x1 = x1 + v1*dt\n",
        "  x2 = x2 + v2*dt\n",
        "  # a = -k*(x1-x0)/m # F=ma\n",
        "  a1 = (-k*(x1-x0) + k*(x2-x1-x0))/m - 0.01*v1\n",
        "  a2 = (-k*(x2-x1-x0) -k*(x2-2*x0))/m - 0.01*v2\n",
        "  v1 = v1 + a1*dt\n",
        "  v2 = v2 + a2*dt\n",
        "\n",
        "\n",
        "  # if x < 0: break\n",
        "\n",
        "  tlist.append(t)\n",
        "  x1list.append(x1)\n",
        "  x2list.append(x2)\n",
        "  v1list.append(v1)\n",
        "  v2list.append(v2)\n",
        "  "
      ],
      "execution_count": 52,
      "outputs": []
    },
    {
      "cell_type": "code",
      "metadata": {
        "id": "8Oe34l698wtb",
        "colab_type": "code",
        "colab": {}
      },
      "source": [
        ""
      ],
      "execution_count": null,
      "outputs": []
    },
    {
      "cell_type": "code",
      "metadata": {
        "id": "v9u9X2zBIX3M",
        "colab_type": "code",
        "colab": {}
      },
      "source": [
        "import matplotlib.pyplot as plt\n"
      ],
      "execution_count": 53,
      "outputs": []
    },
    {
      "cell_type": "code",
      "metadata": {
        "id": "rYlminVuJnYM",
        "colab_type": "code",
        "colab": {
          "base_uri": "https://localhost:8080/",
          "height": 293
        },
        "outputId": "eeb2dd81-9a22-4920-997d-c3875cd04de8"
      },
      "source": [
        "plt.plot(tlist, x1list, )"
      ],
      "execution_count": 54,
      "outputs": [
        {
          "output_type": "execute_result",
          "data": {
            "text/plain": [
              "[<matplotlib.lines.Line2D at 0x7fc70a665cc0>]"
            ]
          },
          "metadata": {
            "tags": []
          },
          "execution_count": 54
        },
        {
          "output_type": "display_data",
          "data": {
            "image/png": "[encoded data removed]",
            "text/plain": [
              "<Figure size 432x288 with 1 Axes>"
            ]
          },
          "metadata": {
            "tags": [],
            "needs_background": "light"
          }
        }
      ]
    },
    {
      "cell_type": "code",
      "metadata": {
        "id": "ybf6NgxVKJoQ",
        "colab_type": "code",
        "colab": {}
      },
      "source": [
        ""
      ],
      "execution_count": null,
      "outputs": []
    },
    {
      "cell_type": "markdown",
      "metadata": {
        "id": "m1b4E7UIQZrJ",
        "colab_type": "text"
      },
      "source": [
        "harmonic oscilator 에서 여러개의 용수철을 만들어서 시리즈로 도전!\n"
      ]
    },
    {
      "cell_type": "code",
      "metadata": {
        "id": "keOGX3rIQr5c",
        "colab_type": "code",
        "colab": {}
      },
      "source": [
        ""
      ],
      "execution_count": null,
      "outputs": []
    }
  ]
}