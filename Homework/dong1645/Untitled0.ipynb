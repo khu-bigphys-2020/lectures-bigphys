{
  "nbformat": 4,
  "nbformat_minor": 0,
  "metadata": {
    "colab": {
      "name": "Untitled0.ipynb",
      "provenance": [],
      "authorship_tag": "ABX9TyO1xC8AvkXbh5pxv0vJdEvo",
      "include_colab_link": true
    },
    "kernelspec": {
      "name": "python3",
      "display_name": "Python 3"
    }
  },
  "cells": [
    {
      "cell_type": "markdown",
      "metadata": {
        "id": "view-in-github",
        "colab_type": "text"
      },
      "source": [
        "<a href=\"https://colab.research.google.com/github/dong1645/lectures-bigphys/blob/master/Untitled0.ipynb\" target=\"_parent\"><img src=\"https://colab.research.google.com/assets/colab-badge.svg\" alt=\"Open In Colab\"/></a>"
      ]
    },
    {
      "cell_type": "code",
      "metadata": {
        "id": "xdH1iXeclbji",
        "colab_type": "code",
        "colab": {}
      },
      "source": [
        "import dynamical_system\n",
        "import numpy\n",
        "\n",
        "class Oscilator(dynamical_system.DynamicalSystem):\n",
        "    def __init__(self, frequency, dumping = 0.0, dt = 0.01):\n",
        "        super().__init__(2, dt)\n",
        "        \n",
        "        a = numpy.zeros((2, 2))\n",
        "\n",
        "        a[0][0] = -dumping\n",
        "        a[0][1] = -frequency\n",
        "        a[1][0] = 1.0\n",
        "        a[1][1] = 0.0\n",
        "\n",
        "        self.set_transfer_matrix(a)\n",
        "\n",
        "        print(self.a)    \n",
        "\n",
        "    def set_random(self):\n",
        "        a = numpy.zeros((2, 2))\n",
        "\n",
        "        a[0][0] = -numpy.random.rand()*2\n",
        "        a[0][1] = -(numpy.random.rand())*30.0 + 2.0\n",
        "        a[1][0] = 1.0\n",
        "        a[1][1] = 0.0\n",
        "\n",
        "        self.set_transfer_matrix(a)\n"
      ],
      "execution_count": null,
      "outputs": []
    }
  ]
}