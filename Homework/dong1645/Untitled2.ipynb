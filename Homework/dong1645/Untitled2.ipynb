{
  "nbformat": 4,
  "nbformat_minor": 0,
  "metadata": {
    "colab": {
      "name": "Untitled2.ipynb",
      "provenance": [],
      "authorship_tag": "ABX9TyOmYGijY6n5+V+QPqoShUpc",
      "include_colab_link": true
    },
    "kernelspec": {
      "name": "python3",
      "display_name": "Python 3"
    }
  },
  "cells": [
    {
      "cell_type": "markdown",
      "metadata": {
        "id": "view-in-github",
        "colab_type": "text"
      },
      "source": [
        "<a href=\"https://colab.research.google.com/github/dong1645/lectures-bigphys/blob/master/Untitled2.ipynb\" target=\"_parent\"><img src=\"https://colab.research.google.com/assets/colab-badge.svg\" alt=\"Open In Colab\"/></a>"
      ]
    },
    {
      "cell_type": "code",
      "metadata": {
        "id": "espsnqGs4abG",
        "colab_type": "code",
        "colab": {
          "base_uri": "https://localhost:8080/",
          "height": 536
        },
        "outputId": "6c2e4497-6c00-4fb3-b59a-4a627b2f0065"
      },
      "source": [
        "import numpy as np\n",
        "import matplotlib.pyplot as plt\n",
        "import matplotlib.animation as animation\n",
        "import random\n",
        "\n",
        "fig = plt.figure(figsize=(7,7))\n",
        "ax1 = fig.add_subplot(1,1,1)\n",
        "ax2 = fig.add_subplot(2,1,1)\n",
        "ax3 = fig.add_subplot(3,1,1)\n",
        "fig.subplots_adjust(hspace=.45)\n",
        "\n",
        "# Spring data\n",
        "k = 100\n",
        "m = 20\n",
        "w = np.sqrt(k/m)\n",
        "phi = 2\n",
        "A = 2\n",
        "\n",
        "period = 2*np.pi/w\n",
        "frequency = 1/period\n",
        "\n",
        "print(\"Period:\",period,\"seconds\",sep=\" \")\n",
        "print(\"Frequency:\",frequency,\"Hz\",sep=\" \")\n",
        "print(\"k: \",k,\"N/m\",sep=\" \")\n",
        "\n",
        "def fun(t):\n",
        "    global w,phi,A\n",
        "    return A*np.sin(w*t+phi)\n",
        "\n",
        "def vel(t):\n",
        "    global w,phi,A\n",
        "    return A*w*np.cos(w*t+phi)\n",
        "\n",
        "def acceleration(t):\n",
        "    global w,phi,A\n",
        "    return -A*w**2*np.sin(w*t+phi)\n",
        "\n",
        "\n",
        "def position(x):\n",
        "    x1 = x-1\n",
        "    x2 = x+1\n",
        "    y1 = 1 \n",
        "    y2 = -1\n",
        "\n",
        "    p1 = [x1,y2]\n",
        "    p2 = [x2,y2]\n",
        "    p3 = [x2,y1]\n",
        "    p4 = [x1,y1]\n",
        "    return [p1,p2,p3,p4]\n",
        "\n",
        "counter = 0\n",
        "xt = [0]\n",
        "yt = [0]\n",
        "vy = [0]\n",
        "acy = [0]\n",
        "\n",
        "def animate(i):\n",
        "    global counter, xt,yt,A,vy,acy\n",
        "    ax3.clear()\n",
        "\n",
        "    plt.subplot(311)\n",
        "    # configure  X axes\n",
        "    plt.xlim(-3.5,3.5)\n",
        "\n",
        "    # configure  Y axes\n",
        "    plt.ylim(-2,2)\n",
        "\n",
        "    # labels\n",
        "    plt.xlabel(\"x\")\n",
        "    plt.ylabel(\"y\")\n",
        "    plt.title(\"Motion of an ideal spring\")\n",
        "    \n",
        "    p1 = [position(fun(counter))[0][0],position(fun(counter))[0][1]]\n",
        "    p2 = [position(fun(counter))[1][0],position(fun(counter))[1][1]]\n",
        "    p3 = [position(fun(counter))[2][0],position(fun(counter))[2][1]]\n",
        "    p4 = [position(fun(counter))[3][0],position(fun(counter))[3][1]]\n",
        "\n",
        "    x = [p1[0],p2[0],p3[0],p4[0],p1[0]]\n",
        "    y = [p1[1],p2[1],p3[1],p4[1],p1[1]]\n",
        "    linex = [-4,p1[0]]\n",
        "    liney = [0,0]\n",
        "    \n",
        "    plt.plot(x,y,lw=5,color=\"blue\")\n",
        "    plt.plot(linex,liney,color=\"red\",ls=\":\",lw=5)\n",
        "\n",
        "    plt.subplot(312)\n",
        "    xt.append(counter)\n",
        "    vy.append(vel(counter))\n",
        "    plt.title(\"Velocity\")\n",
        "    plt.xlim(0,15)\n",
        "    plt.ylim(-A*w-0.5,A*w+0.5)\n",
        "    plt.plot(xt,vy,lw=1,color=\"green\")\n",
        "    plt.plot([0,15],[0,0],lw=0.5,color=\"black\")\n",
        "\n",
        "    plt.subplot(313)\n",
        "    acy.append(acceleration(counter))\n",
        "    plt.title(\"Acceleration\")\n",
        "    plt.xlim(0,15)\n",
        "    plt.ylim(-A*w**2-0.5,A*w**2+0.5)\n",
        "    plt.plot(xt,acy,lw=1,color=\"green\")\n",
        "    plt.plot([0,15],[0,0],lw=0.5,color=\"black\")\n",
        "    \n",
        "    counter += 0.1\n",
        "    \n",
        "\n",
        "ani = animation.FuncAnimation(fig,animate,interval=2)\n",
        "plt.show()"
      ],
      "execution_count": 7,
      "outputs": [
        {
          "output_type": "stream",
          "text": [
            "Period: 2.8099258924162904 seconds\n",
            "Frequency: 0.3558812717085885 Hz\n",
            "k:  100 N/m\n"
          ],
          "name": "stdout"
        },
        {
          "output_type": "stream",
          "text": [
            "/usr/local/lib/python3.6/dist-packages/ipykernel_launcher.py:61: MatplotlibDeprecationWarning: Adding an axes using the same arguments as a previous axes currently reuses the earlier instance.  In a future version, a new instance will always be created and returned.  Meanwhile, this warning can be suppressed, and the future behavior ensured, by passing a unique label to each axes instance.\n"
          ],
          "name": "stderr"
        },
        {
          "output_type": "display_data",
          "data": {
            "image/png": "[encoded data removed]",
            "text/plain": [
              "<Figure size 504x504 with 3 Axes>"
            ]
          },
          "metadata": {
            "tags": [],
            "needs_background": "light"
          }
        }
      ]
    }
  ]
}