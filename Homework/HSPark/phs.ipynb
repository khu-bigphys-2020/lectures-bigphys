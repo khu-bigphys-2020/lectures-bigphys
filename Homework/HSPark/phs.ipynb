{
  "nbformat": 4,
  "nbformat_minor": 0,
  "metadata": {
    "colab": {
      "name": "Untitled15.ipynb",
      "provenance": [],
      "collapsed_sections": [],
      "authorship_tag": "ABX9TyO+z+lz7A1U3OV6d5IU3jwU",
      "include_colab_link": true
    },
    "kernelspec": {
      "name": "python3",
      "display_name": "Python 3"
    }
  },
  "cells": [
    {
      "cell_type": "markdown",
      "metadata": {
        "id": "view-in-github",
        "colab_type": "text"
      },
      "source": [
        "<a href=\"https://colab.research.google.com/github/parkseastar/lectures-bigphys/blob/master/phs.ipynb\" target=\"_parent\"><img src=\"https://colab.research.google.com/assets/colab-badge.svg\" alt=\"Open In Colab\"/></a>"
      ]
    },
    {
      "cell_type": "code",
      "metadata": {
        "id": "GoESyKQv68sh",
        "colab_type": "code",
        "colab": {
          "base_uri": "https://localhost:8080/",
          "height": 35
        },
        "outputId": "5005046f-a188-48da-de0f-5b2fa7252f3d"
      },
      "source": [
        "print(\"Hello world\")"
      ],
      "execution_count": 1,
      "outputs": [
        {
          "output_type": "stream",
          "text": [
            "Hello world\n"
          ],
          "name": "stdout"
        }
      ]
    },
    {
      "cell_type": "markdown",
      "metadata": {
        "id": "1Cu3bh2ePlUi",
        "colab_type": "text"
      },
      "source": [
        "#빅데이터 물리학 첫번째 예제 \n",
        "\n",
        "이 노트북은 빅데이터물리학 예제입니다. 피이썬 기초를 하겠습니다"
      ]
    },
    {
      "cell_type": "code",
      "metadata": {
        "id": "tTYbSd1a_r2Z",
        "colab_type": "code",
        "colab": {
          "base_uri": "https://localhost:8080/",
          "height": 35
        },
        "outputId": "b971b419-cdf7-4953-9e40-4001279f1646"
      },
      "source": [
        "from math import *\n",
        "\n",
        "sin(1)\n",
        "cos(1)"
      ],
      "execution_count": 100,
      "outputs": [
        {
          "output_type": "execute_result",
          "data": {
            "text/plain": [
              "0.5403023058681398"
            ]
          },
          "metadata": {
            "tags": []
          },
          "execution_count": 100
        }
      ]
    },
    {
      "cell_type": "code",
      "metadata": {
        "id": "N5908hq9_09h",
        "colab_type": "code",
        "colab": {}
      },
      "source": [
        "m = 1\n",
        "t = 0.0\n",
        "k = 0.1\n",
        "x0 = 1.0\n",
        "x = x0 + 0.1\n",
        "#v = 0.1\n",
        "v= 10"
      ],
      "execution_count": 117,
      "outputs": []
    },
    {
      "cell_type": "code",
      "metadata": {
        "id": "6q_lfrzjEMaF",
        "colab_type": "code",
        "colab": {}
      },
      "source": [
        "dt = 0.1\n",
        "tlist = [t,]\n",
        "xlist = [x,]\n",
        "vlist = [v,]\n",
        "for i in range(100):    \n",
        "    t = t + dt\n",
        "    x = x + v*dt\n",
        "    #a = -k*(x-x0)/m - 0.01*v\n",
        "    #a = -k*(x-x0)/m\n",
        "    a = -9.8\n",
        "    v = v + a*dt\n",
        "\n",
        "    if x <= 0: break\n",
        "\n",
        "    \n",
        "    tlist.append(t)\n",
        "    xlist.append(x)\n",
        "    vlist.append(v)"
      ],
      "execution_count": 118,
      "outputs": []
    },
    {
      "cell_type": "code",
      "metadata": {
        "id": "ZDFjD_HYEkN-",
        "colab_type": "code",
        "colab": {}
      },
      "source": [
        "import matplotlib.pyplot as plt\n"
      ],
      "execution_count": 119,
      "outputs": []
    },
    {
      "cell_type": "code",
      "metadata": {
        "id": "sg2r--BbJKCn",
        "colab_type": "code",
        "colab": {
          "base_uri": "https://localhost:8080/",
          "height": 287
        },
        "outputId": "85f3b8c4-26ea-4435-8491-793c49431a96"
      },
      "source": [
        "plt.plot(tlist, xlist, '-')\n",
        "plt.show"
      ],
      "execution_count": 120,
      "outputs": [
        {
          "output_type": "execute_result",
          "data": {
            "text/plain": [
              "<function matplotlib.pyplot.show>"
            ]
          },
          "metadata": {
            "tags": []
          },
          "execution_count": 120
        },
        {
          "output_type": "display_data",
          "data": {
            "image/png": "[encoded data removed]",
            "text/plain": [
              "<Figure size 432x288 with 1 Axes>"
            ]
          },
          "metadata": {
            "tags": [],
            "needs_background": "light"
          }
        }
      ]
    },
    {
      "cell_type": "code",
      "metadata": {
        "id": "jJdmDgp7KHHP",
        "colab_type": "code",
        "colab": {
          "base_uri": "https://localhost:8080/",
          "height": 269
        },
        "outputId": "0501a60b-7e1a-43af-aa15-2e8e826b446b"
      },
      "source": [
        "plt.plot(tlist,xlist);"
      ],
      "execution_count": 121,
      "outputs": [
        {
          "output_type": "display_data",
          "data": {
            "image/png": "[encoded data removed]",
            "text/plain": [
              "<Figure size 432x288 with 1 Axes>"
            ]
          },
          "metadata": {
            "tags": [],
            "needs_background": "light"
          }
        }
      ]
    },
    {
      "cell_type": "code",
      "metadata": {
        "id": "Ivzpm1zYKQ-z",
        "colab_type": "code",
        "colab": {}
      },
      "source": [
        ""
      ],
      "execution_count": 116,
      "outputs": []
    }
  ]
}