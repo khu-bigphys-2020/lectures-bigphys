{
  "nbformat": 4,
  "nbformat_minor": 0,
  "metadata": {
    "colab": {
      "name": "y=Asin(kx)",
      "provenance": [],
      "collapsed_sections": [],
      "authorship_tag": "ABX9TyPqQgJ2udP6XaNEo4ZP69B/",
      "include_colab_link": true
    },
    "kernelspec": {
      "name": "python3",
      "display_name": "Python 3"
    }
  },
  "cells": [
    {
      "cell_type": "markdown",
      "metadata": {
        "id": "view-in-github",
        "colab_type": "text"
      },
      "source": [
        "<a href=\"https://colab.research.google.com/github/kimtaerang/lectures-bigphys/blob/master/y%3DAsin(kx).ipynb\" target=\"_parent\"><img src=\"https://colab.research.google.com/assets/colab-badge.svg\" alt=\"Open In Colab\"/></a>"
      ]
    },
    {
      "cell_type": "code",
      "metadata": {
        "id": "3GfF7aaX7Uj7"
      },
      "source": [
        "import numpy as np\n",
        "import matplotlib.pyplot as plt\n",
        "from math import *\n",
        "import random\n",
        "\n",
        "x =[]\n",
        "y =[]\n",
        "for i in range(1000):\n",
        "    x0 = random.uniform(-3*np.pi,3*np.pi)\n",
        "    y0 = 2*np.sin(2*x0)+random.gauss(-0.2,0.2)\n",
        "    x.append(x0)\n",
        "    y.append(y0)\n",
        "    \n",
        "plt.plot(x,y,'.')\n",
        "#k 값 지정\n",
        "def f(x,A , k):\n",
        "    return A*sin(k*x)\n",
        "\n",
        "bestLoss = 1e9\n",
        "bestK = 0\n",
        "dt = 0.001\n",
        "lossHistory = []\n",
        "kHistory = []\n",
        "k = 2\n",
        "A = 3\n",
        "for i in range(5000):\n",
        "  kGrad = [-2 *A * (y[i] - f(x[i],A, k)) * x[i] * np.cos(k*x[i]) for i in range(len(y))]\n",
        "  AGrad = [-2  * (y[i] - f(x[i],A, k)) * np.sin(k*x[i]) for i in range(len(y))]\n",
        "  k -= sum(kGrad)/len(kGrad)*dt\n",
        "  A -= sum(AGrad)/len(AGrad)*dt\n",
        "  \n",
        "  reses = [(y[i]-f(x[i],A, k))**2 for i in range(len(y))]\n",
        "  loss = sqrt(sum(reses)/len(reses))\n",
        "  lossHistory.append(loss)\n",
        "  kHistory.append(k)\n",
        "  if loss < bestLoss:\n",
        "    bestK= k\n",
        "    bestLoss = loss\n",
        "print(bestLoss, bestK)\n",
        "xpoint = []\n",
        "#np.arange -> for문에서 range를 쓰면 float형은 나눠줄 수 없어 x구간을 나눠주기 위해 arange를 사용\n",
        "for i in np.arange(-3*np.pi,3*np.pi,6*np.pi/1000):\n",
        "    xpoint.append(i)\n",
        "\n",
        "\n",
        "ypoint = [f(xpoint[i],A, bestK) for i in range(len(xpoint))]\n",
        "plt.plot(xpoint, ypoint, '-')\n",
        "\n"
      ],
      "execution_count": null,
      "outputs": []
    }
  ]
}