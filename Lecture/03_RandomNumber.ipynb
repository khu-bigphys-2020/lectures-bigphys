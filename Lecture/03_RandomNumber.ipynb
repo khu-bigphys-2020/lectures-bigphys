{
  "nbformat": 4,
  "nbformat_minor": 0,
  "metadata": {
    "colab": {
      "name": "3.RandomNumber.ipynb",
      "provenance": [],
      "authorship_tag": "ABX9TyPGUvSUJESrkafl4+DOs9xq",
      "include_colab_link": true
    },
    "kernelspec": {
      "name": "python3",
      "display_name": "Python 3"
    }
  },
  "cells": [
    {
      "cell_type": "markdown",
      "metadata": {
        "id": "view-in-github",
        "colab_type": "text"
      },
      "source": [
        "<a href=\"https://colab.research.google.com/github/khu-bigphys-2020/lectures-bigphys/blob/master/Lecture/03_RandomNumber.ipynb\" target=\"_parent\"><img src=\"https://colab.research.google.com/assets/colab-badge.svg\" alt=\"Open In Colab\"/></a>"
      ]
    },
    {
      "cell_type": "code",
      "metadata": {
        "id": "lD9mlFPVkCDo",
        "colab_type": "code",
        "colab": {}
      },
      "source": [
        "import random"
      ],
      "execution_count": 1,
      "outputs": []
    },
    {
      "cell_type": "code",
      "metadata": {
        "id": "PzSqcVFj3Sh4",
        "colab_type": "code",
        "colab": {}
      },
      "source": [
        "help(random)"
      ],
      "execution_count": null,
      "outputs": []
    },
    {
      "cell_type": "code",
      "metadata": {
        "id": "BuHggZc_3Vz_",
        "colab_type": "code",
        "colab": {}
      },
      "source": [
        "l = [1]"
      ],
      "execution_count": 33,
      "outputs": []
    },
    {
      "cell_type": "code",
      "metadata": {
        "id": "p3uwAmnr3wYq",
        "colab_type": "code",
        "colab": {}
      },
      "source": [
        "import numpy as np"
      ],
      "execution_count": 18,
      "outputs": []
    },
    {
      "cell_type": "code",
      "metadata": {
        "id": "3gBszDiq445o",
        "colab_type": "code",
        "colab": {}
      },
      "source": [
        "sumX = 0.\n",
        "sumX2 = 0.\n",
        "nExp = 1000\n",
        "xarry = []\n",
        "for i in range(nExp):\n",
        "  x = random.random()*9 + 1\n",
        "  xarry.append(x)\n",
        "  sumX += x\n",
        "  sumX2 += x*x\n",
        "avgX = sumX/nExp\n",
        "avgX2 = sumX2/nExp\n",
        "variance = avgX2 - avgX*avgX"
      ],
      "execution_count": 57,
      "outputs": []
    },
    {
      "cell_type": "code",
      "metadata": {
        "id": "__3Cp59n5SxD",
        "colab_type": "code",
        "colab": {
          "base_uri": "https://localhost:8080/",
          "height": 51
        },
        "outputId": "e223dbaa-aca1-474e-a88f-79931ba9d6e4"
      },
      "source": [
        "from math import sqrt\n",
        "print(\"mean=\", avgX)\n",
        "print(\"stddev=\", sqrt(variance)/(nExp-1)*nExp)\n",
        "#print(xarry)"
      ],
      "execution_count": 58,
      "outputs": [
        {
          "output_type": "stream",
          "text": [
            "mean= 5.481583052104389\n",
            "stddev= 2.6326194912901695\n"
          ],
          "name": "stdout"
        }
      ]
    },
    {
      "cell_type": "code",
      "metadata": {
        "id": "l8OhiO-K6iR3",
        "colab_type": "code",
        "colab": {
          "base_uri": "https://localhost:8080/",
          "height": 34
        },
        "outputId": "1604e28a-7718-44cc-d92a-d5e8692293e8"
      },
      "source": [
        "1/sqrt(12)"
      ],
      "execution_count": 59,
      "outputs": [
        {
          "output_type": "execute_result",
          "data": {
            "text/plain": [
              "0.2886751345948129"
            ]
          },
          "metadata": {
            "tags": []
          },
          "execution_count": 59
        }
      ]
    },
    {
      "cell_type": "code",
      "metadata": {
        "id": "CAV-7KF0-oW3",
        "colab_type": "code",
        "colab": {}
      },
      "source": [
        "import matplotlib.pyplot as plt\n"
      ],
      "execution_count": 60,
      "outputs": []
    },
    {
      "cell_type": "code",
      "metadata": {
        "id": "mFtyDPOxC0JD",
        "colab_type": "code",
        "colab": {
          "base_uri": "https://localhost:8080/",
          "height": 265
        },
        "outputId": "a59eda8e-256c-4db2-9d69-d15866ef8065"
      },
      "source": [
        "plt.hist(xarry, bins=100);"
      ],
      "execution_count": 61,
      "outputs": [
        {
          "output_type": "display_data",
          "data": {
            "image/png": "[encoded data removed]",
            "text/plain": [
              "<Figure size 432x288 with 1 Axes>"
            ]
          },
          "metadata": {
            "tags": [],
            "needs_background": "light"
          }
        }
      ]
    },
    {
      "cell_type": "code",
      "metadata": {
        "id": "1qMOTcLgC2o3",
        "colab_type": "code",
        "colab": {}
      },
      "source": [
        "from math import *\n",
        "def fx(x):\n",
        "  xx = (x-3.0)/1\n",
        "  xxx = (x-5.0)/0.5\n",
        "  return exp(-xx*xx)+0.3*exp(-xxx*xxx)"
      ],
      "execution_count": 126,
      "outputs": []
    },
    {
      "cell_type": "code",
      "metadata": {
        "id": "eOQG8AwVEnCe",
        "colab_type": "code",
        "colab": {}
      },
      "source": [
        "xs = np.arange(0, 10, 0.1)\n",
        "ys = np.array([fx(x) for x in xs])"
      ],
      "execution_count": 127,
      "outputs": []
    },
    {
      "cell_type": "code",
      "metadata": {
        "id": "yH4bBMOVEvq2",
        "colab_type": "code",
        "colab": {
          "base_uri": "https://localhost:8080/",
          "height": 265
        },
        "outputId": "f6582877-0649-41d4-d44a-391ae7d95ef5"
      },
      "source": [
        "plt.plot(xs, ys, '-');"
      ],
      "execution_count": 128,
      "outputs": [
        {
          "output_type": "display_data",
          "data": {
            "image/png": "[encoded data removed]",
            "text/plain": [
              "<Figure size 432x288 with 1 Axes>"
            ]
          },
          "metadata": {
            "tags": [],
            "needs_background": "light"
          }
        }
      ]
    },
    {
      "cell_type": "code",
      "metadata": {
        "id": "l8Y03in9E1Zb",
        "colab_type": "code",
        "colab": {}
      },
      "source": [
        "nExp = 10000\n",
        "data = []\n",
        "while True:\n",
        "    x = random.random()*10\n",
        "    y = random.random()*0.1\n",
        "    if fx(x) > y:\n",
        "      data.append(x)\n",
        "    if len(data) >= nExp: break"
      ],
      "execution_count": 144,
      "outputs": []
    },
    {
      "cell_type": "code",
      "metadata": {
        "id": "UQHZlcudFjDa",
        "colab_type": "code",
        "colab": {
          "base_uri": "https://localhost:8080/",
          "height": 265
        },
        "outputId": "6cffd531-2f41-428a-b6e9-db25c8fa9dd9"
      },
      "source": [
        "plt.hist(data, bins=100);\n",
        "#plt.plot(xs, ys*30, '-');"
      ],
      "execution_count": 145,
      "outputs": [
        {
          "output_type": "display_data",
          "data": {
            "image/png": "[encoded data removed]",
            "text/plain": [
              "<Figure size 432x288 with 1 Axes>"
            ]
          },
          "metadata": {
            "tags": [],
            "needs_background": "light"
          }
        }
      ]
    },
    {
      "cell_type": "code",
      "metadata": {
        "id": "vZ4twL64Fn_X",
        "colab_type": "code",
        "colab": {
          "base_uri": "https://localhost:8080/",
          "height": 34
        },
        "outputId": "07111b35-078a-4d43-d6d6-f4cac6bfde49"
      },
      "source": [
        "len(data)"
      ],
      "execution_count": 141,
      "outputs": [
        {
          "output_type": "execute_result",
          "data": {
            "text/plain": [
              "10000"
            ]
          },
          "metadata": {
            "tags": []
          },
          "execution_count": 141
        }
      ]
    },
    {
      "cell_type": "code",
      "metadata": {
        "id": "KTED_KBqIqFT",
        "colab_type": "code",
        "colab": {}
      },
      "source": [
        "data = []\n",
        "for i in range(100000):\n",
        "  x = random.random()\n",
        "  x = sqrt(x)\n",
        "  data.append(x)"
      ],
      "execution_count": 148,
      "outputs": []
    },
    {
      "cell_type": "code",
      "metadata": {
        "id": "a5EaiNJNNbYd",
        "colab_type": "code",
        "colab": {
          "base_uri": "https://localhost:8080/",
          "height": 265
        },
        "outputId": "860f131a-cf23-451d-827f-52043f9c7a33"
      },
      "source": [
        "plt.hist(data, bins=100);"
      ],
      "execution_count": 149,
      "outputs": [
        {
          "output_type": "display_data",
          "data": {
            "image/png": "[encoded data removed]",
            "text/plain": [
              "<Figure size 432x288 with 1 Axes>"
            ]
          },
          "metadata": {
            "tags": [],
            "needs_background": "light"
          }
        }
      ]
    },
    {
      "cell_type": "code",
      "metadata": {
        "id": "prXeIGMdNiFp",
        "colab_type": "code",
        "colab": {}
      },
      "source": [
        "l = [random.gauss(5,0.5) for i in range(1000)]"
      ],
      "execution_count": 154,
      "outputs": []
    },
    {
      "cell_type": "code",
      "metadata": {
        "id": "yjSszTAtR0u5",
        "colab_type": "code",
        "colab": {
          "base_uri": "https://localhost:8080/",
          "height": 265
        },
        "outputId": "62f53269-5d2d-434e-f0ee-3ca594d2406e"
      },
      "source": [
        "plt.hist(l, bins=100);"
      ],
      "execution_count": 156,
      "outputs": [
        {
          "output_type": "display_data",
          "data": {
            "image/png": "[encoded data removed]",
            "text/plain": [
              "<Figure size 432x288 with 1 Axes>"
            ]
          },
          "metadata": {
            "tags": [],
            "needs_background": "light"
          }
        }
      ]
    },
    {
      "cell_type": "code",
      "metadata": {
        "id": "t1c5DDiASBal",
        "colab_type": "code",
        "colab": {
          "base_uri": "https://localhost:8080/",
          "height": 34
        },
        "outputId": "b3b6f4aa-60ff-45f7-96d8-d0de2f49cd84"
      },
      "source": [
        "random.uniform(10,101.1123)"
      ],
      "execution_count": 158,
      "outputs": [
        {
          "output_type": "execute_result",
          "data": {
            "text/plain": [
              "65.00571349942558"
            ]
          },
          "metadata": {
            "tags": []
          },
          "execution_count": 158
        }
      ]
    },
    {
      "cell_type": "code",
      "metadata": {
        "id": "JyqKAHPuShVX",
        "colab_type": "code",
        "colab": {}
      },
      "source": [
        "nExp = 1000\n",
        "xs, ys, zs = [], [], []\n",
        "while True:\n",
        "  x = random.uniform(-2, 2)\n",
        "  y = random.uniform(-2, 2)\n",
        "  z = random.uniform(-2, 2)\n",
        "  if x*x + y*y + z*z < 2*2:\n",
        "    xs.append(x)\n",
        "    ys.append(y)\n",
        "    zs.append(z)\n",
        "  if len(xs) >= nExp: break"
      ],
      "execution_count": 164,
      "outputs": []
    },
    {
      "cell_type": "code",
      "metadata": {
        "id": "8f7vpKI3S6wZ",
        "colab_type": "code",
        "colab": {
          "base_uri": "https://localhost:8080/",
          "height": 265
        },
        "outputId": "d29ebb9f-22e9-4b13-8c14-a0435c5f8d26"
      },
      "source": [
        "plt.hist(xs, bins=100);"
      ],
      "execution_count": 171,
      "outputs": [
        {
          "output_type": "display_data",
          "data": {
            "image/png": "[encoded data removed]",
            "text/plain": [
              "<Figure size 432x288 with 1 Axes>"
            ]
          },
          "metadata": {
            "tags": [],
            "needs_background": "light"
          }
        }
      ]
    },
    {
      "cell_type": "code",
      "metadata": {
        "id": "BMFcKVqtUfl4",
        "colab_type": "code",
        "colab": {
          "base_uri": "https://localhost:8080/",
          "height": 34
        },
        "outputId": "4e115dc7-bf4b-49d7-d37c-179b8e95ddc0"
      },
      "source": [
        "nExp = 100000\n",
        "nTrial = 0.\n",
        "nAccept = 0\n",
        "while True:\n",
        "  x = random.uniform(-1,1)\n",
        "  y = random.uniform(-1,1)\n",
        "  nTrial += 1\n",
        "  if x*x + y*y < 1:\n",
        "    nAccept += 1\n",
        "  #print(nAccept/nExp*4)\n",
        "  if nTrial >= nExp: break\n",
        "print(nAccept/nExp*4)"
      ],
      "execution_count": 181,
      "outputs": [
        {
          "output_type": "stream",
          "text": [
            "3.13472\n"
          ],
          "name": "stdout"
        }
      ]
    },
    {
      "cell_type": "code",
      "metadata": {
        "id": "Vn7mCwXeXK55",
        "colab_type": "code",
        "colab": {}
      },
      "source": [
        ""
      ],
      "execution_count": null,
      "outputs": []
    }
  ]
}