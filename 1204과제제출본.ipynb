{
  "nbformat": 4,
  "nbformat_minor": 0,
  "metadata": {
    "colab": {
      "name": "1204과제제출본.ipynb",
      "provenance": [],
      "collapsed_sections": [],
      "authorship_tag": "ABX9TyN1zvnmY8Qgq9zf8IOerl9D",
      "include_colab_link": true
    },
    "kernelspec": {
      "name": "python3",
      "display_name": "Python 3"
    }
  },
  "cells": [
    {
      "cell_type": "markdown",
      "metadata": {
        "id": "view-in-github",
        "colab_type": "text"
      },
      "source": [
        "<a href=\"https://colab.research.google.com/github/qodnd1848/lectures-bigphys/blob/master/1204%EA%B3%BC%EC%A0%9C%EC%A0%9C%EC%B6%9C%EB%B3%B8.ipynb\" target=\"_parent\"><img src=\"https://colab.research.google.com/assets/colab-badge.svg\" alt=\"Open In Colab\"/></a>"
      ]
    },
    {
      "cell_type": "code",
      "metadata": {
        "id": "pnBiZlOo4EIv"
      },
      "source": [
        "HW1. f(x) = A*sin(kx) + Gauss 에 따라서 데이터 생성하고 fitting 해서 parameter A, k 를 다시 찾기"
      ],
      "execution_count": null,
      "outputs": []
    },
    {
      "cell_type": "code",
      "metadata": {
        "id": "20Yg4N3p4Xx2"
      },
      "source": [
        "import numpy as np\n",
        "import math\n",
        "from scipy.optimize import curve_fit\n",
        "import matplotlib.pyplot as plt"
      ],
      "execution_count": 431,
      "outputs": []
    },
    {
      "cell_type": "code",
      "metadata": {
        "id": "CxN7ZXQAQK_w"
      },
      "source": [
        "#1-1. 데이터 생성"
      ],
      "execution_count": null,
      "outputs": []
    },
    {
      "cell_type": "code",
      "metadata": {
        "id": "2l2khDT16REk"
      },
      "source": [
        "def gen_fx(x, A, k):\n",
        "  data = A*np.sin(k*x)\n",
        "  return data\n",
        "#여기서 바로 랜덤을 더할려고 했는데, y = gen_fx(x, 10, 0.5)으로 Y값을 만들면 랜덤 결과가 동일하게 적용되는것 같다.\n",
        "\n",
        "A_const = 10\n",
        "k_const = 0.7"
      ],
      "execution_count": 524,
      "outputs": []
    },
    {
      "cell_type": "code",
      "metadata": {
        "id": "sCh8EPNY6ROJ"
      },
      "source": [
        "x = np.linspace(0, 8*(math.pi), 1000)"
      ],
      "execution_count": 525,
      "outputs": []
    },
    {
      "cell_type": "code",
      "metadata": {
        "id": "RwqXKS5e600l"
      },
      "source": [
        "#print(x)"
      ],
      "execution_count": 526,
      "outputs": []
    },
    {
      "cell_type": "code",
      "metadata": {
        "id": "VQoiamu26RWL"
      },
      "source": [
        "y_real = gen_fx(x, A_const, k_const)"
      ],
      "execution_count": 527,
      "outputs": []
    },
    {
      "cell_type": "code",
      "metadata": {
        "id": "URzNkc1n6lVU"
      },
      "source": [
        "#print(y)"
      ],
      "execution_count": 528,
      "outputs": []
    },
    {
      "cell_type": "code",
      "metadata": {
        "id": "AZiCN-vqCiZz"
      },
      "source": [
        "y_noise = y_real + 0.5*np.random.normal(0,1, size=len(x))"
      ],
      "execution_count": 529,
      "outputs": []
    },
    {
      "cell_type": "code",
      "metadata": {
        "id": "Hz75uVqq6n0U"
      },
      "source": [
        "#1-2. Loss 값 최소로 만드는 구간 찾기 "
      ],
      "execution_count": 530,
      "outputs": []
    },
    {
      "cell_type": "code",
      "metadata": {
        "id": "pRmVb-yE7bUc"
      },
      "source": [
        "\"\"\"\n",
        "def Loss(para):\n",
        "  loss = 0\n",
        "  for i in range(len(x)):\n",
        "    loss += (y_real[i]-gen_fx(x[i],para[0],para[1]))**2\n",
        "  return loss\n",
        "\"\"\"\n",
        "def Loss(para):\n",
        "  loss = (y_real[700]-gen_fx(x[700],para[0],para[1]))**2\n",
        "  return loss\n"
      ],
      "execution_count": 531,
      "outputs": []
    },
    {
      "cell_type": "code",
      "metadata": {
        "colab": {
          "base_uri": "https://localhost:8080/"
        },
        "id": "v6FzLAxXh9LE",
        "outputId": "f664fb77-e66d-40c2-ef24-784ddd80634c"
      },
      "source": [
        "i = 812\n",
        "print((y_noise[i]-gen_fx(x[i],A_const,k_const))**2)"
      ],
      "execution_count": 532,
      "outputs": [
        {
          "output_type": "stream",
          "text": [
            "0.020059989171862358\n"
          ],
          "name": "stdout"
        }
      ]
    },
    {
      "cell_type": "code",
      "metadata": {
        "colab": {
          "base_uri": "https://localhost:8080/"
        },
        "id": "wUlAI-oKiUaR",
        "outputId": "d3358a19-a9a2-451a-ade3-a886404da057"
      },
      "source": [
        "i = 900\n",
        "print((y_real[i]-gen_fx(x[i],A_const,k_const))**2)"
      ],
      "execution_count": 533,
      "outputs": [
        {
          "output_type": "stream",
          "text": [
            "0.0\n"
          ],
          "name": "stdout"
        }
      ]
    },
    {
      "cell_type": "code",
      "metadata": {
        "id": "mHfMU8cn8D2D"
      },
      "source": [
        "def gradient(f,x):\n",
        "  h = 1e-9\n",
        "  grad = np.zeros_like(x)\n",
        "\n",
        "  for idx in range(x.size):\n",
        "    tmp_val = x[idx]\n",
        "\n",
        "    x[idx] = tmp_val + h   \n",
        "    fxh1 = f(x)\n",
        "\n",
        "    x[idx] = tmp_val - h   \n",
        "    fxh2 = f(x)\n",
        "\n",
        "    grad[idx] = (fxh1 - fxh2) / (2*h)\n",
        "    x[idx] = tmp_val\n",
        "\n",
        "  return grad"
      ],
      "execution_count": 534,
      "outputs": []
    },
    {
      "cell_type": "code",
      "metadata": {
        "colab": {
          "base_uri": "https://localhost:8080/"
        },
        "id": "JzfbXqE_bjPg",
        "outputId": "fb5a28e6-cd0d-4d9c-d1cf-aa4a986f0f72"
      },
      "source": [
        "gradient(Loss, np.array([A_const, k_const]))"
      ],
      "execution_count": 535,
      "outputs": [
        {
          "output_type": "execute_result",
          "data": {
            "text/plain": [
              "array([-1.05129817e-16,  3.11532165e-12])"
            ]
          },
          "metadata": {
            "tags": []
          },
          "execution_count": 535
        }
      ]
    },
    {
      "cell_type": "code",
      "metadata": {
        "id": "dXlQvElefqag"
      },
      "source": [
        "def gradient_descent(f, init_x, lr=0.01, step_num=100):\n",
        "  x = init_x\n",
        "\n",
        "  for i in range(step_num):\n",
        "    grad = gradient(f,x)\n",
        "    x -= lr * grad\n",
        "\n",
        "  return x"
      ],
      "execution_count": 536,
      "outputs": []
    },
    {
      "cell_type": "code",
      "metadata": {
        "colab": {
          "base_uri": "https://localhost:8080/"
        },
        "id": "0x_k8uO-gIAm",
        "outputId": "3633b790-2b6e-4fc7-a168-d1648a8f94c9"
      },
      "source": [
        "init_x = np.array([5.0, 0.5])\n",
        "sol = gradient_descent(Loss, init_x=init_x, lr=0.0001, step_num=100000)\n",
        "print(sol)"
      ],
      "execution_count": 543,
      "outputs": [
        {
          "output_type": "stream",
          "text": [
            "[4.9992683  0.56319001]\n"
          ],
          "name": "stdout"
        }
      ]
    },
    {
      "cell_type": "code",
      "metadata": {
        "id": "FbjVIBo38IWD",
        "colab": {
          "base_uri": "https://localhost:8080/",
          "height": 265
        },
        "outputId": "18d78e2e-292f-440c-e58f-3459f6670072"
      },
      "source": [
        "plt.scatter(x, y_noise, marker='.')\n",
        "plt.plot(x, y_real, color='green', linewidth=2)\n",
        "plt.plot(x, gen_fx(x, *sol), color='red', linewidth=2)\n",
        "plt.legend(['Original', 'Best Fit'], loc=3)\n",
        "plt.show()"
      ],
      "execution_count": 544,
      "outputs": [
        {
          "output_type": "display_data",
          "data": {
            "image/png": "[encoded data removed]",
            "text/plain": [
              "<Figure size 432x288 with 1 Axes>"
            ]
          },
          "metadata": {
            "tags": [],
            "needs_background": "light"
          }
        }
      ]
    },
    {
      "cell_type": "code",
      "metadata": {
        "id": "1PkrJOua92tW"
      },
      "source": [
        "#HW2. 위의 f(x)에 대해 A, k 찾기를 여러번 수행하고, 이 때 카이^2 값의 히스토그램을 그리기"
      ],
      "execution_count": null,
      "outputs": []
    }
  ]
}